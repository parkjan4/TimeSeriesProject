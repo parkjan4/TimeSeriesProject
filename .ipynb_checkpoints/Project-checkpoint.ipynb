{
 "cells": [
  {
   "cell_type": "markdown",
   "metadata": {},
   "source": [
    "# Time Series Project\n",
    "\n",
    "* Authors: `Bolón Brun Natalie`, `Park Jangwon`"
   ]
  },
  {
   "cell_type": "markdown",
   "metadata": {},
   "source": [
    "# Import Data"
   ]
  },
  {
   "cell_type": "code",
   "execution_count": 1,
   "metadata": {},
   "outputs": [
    {
     "name": "stderr",
     "output_type": "stream",
     "text": [
      "Warning message:\n",
      "\"package 'zoo' was built under R version 3.5.2\"\n",
      "Attaching package: 'zoo'\n",
      "\n",
      "The following objects are masked from 'package:base':\n",
      "\n",
      "    as.Date, as.Date.numeric\n",
      "\n",
      "Warning message:\n",
      "\"package 'dplyr' was built under R version 3.5.2\"\n",
      "Attaching package: 'dplyr'\n",
      "\n",
      "The following objects are masked from 'package:stats':\n",
      "\n",
      "    filter, lag\n",
      "\n",
      "The following objects are masked from 'package:base':\n",
      "\n",
      "    intersect, setdiff, setequal, union\n",
      "\n"
     ]
    }
   ],
   "source": [
    "library(zoo)\n",
    "library(dplyr)"
   ]
  },
  {
   "cell_type": "code",
   "execution_count": 20,
   "metadata": {},
   "outputs": [
    {
     "data": {
      "text/html": [
       "<table>\n",
       "<thead><tr><th scope=col>Year</th><th scope=col>Month</th><th scope=col>Value</th></tr></thead>\n",
       "<tbody>\n",
       "\t<tr><td>1999</td><td>Jan </td><td>4905</td></tr>\n",
       "\t<tr><td>2000</td><td>Jan </td><td>4808</td></tr>\n",
       "\t<tr><td>2001</td><td>Jan </td><td>4486</td></tr>\n",
       "\t<tr><td>2002</td><td>Jan </td><td>5364</td></tr>\n",
       "\t<tr><td>2003</td><td>Jan </td><td>5184</td></tr>\n",
       "\t<tr><td>2004</td><td>Jan </td><td>6609</td></tr>\n",
       "</tbody>\n",
       "</table>\n"
      ],
      "text/latex": [
       "\\begin{tabular}{r|lll}\n",
       " Year & Month & Value\\\\\n",
       "\\hline\n",
       "\t 1999 & Jan  & 4905\\\\\n",
       "\t 2000 & Jan  & 4808\\\\\n",
       "\t 2001 & Jan  & 4486\\\\\n",
       "\t 2002 & Jan  & 5364\\\\\n",
       "\t 2003 & Jan  & 5184\\\\\n",
       "\t 2004 & Jan  & 6609\\\\\n",
       "\\end{tabular}\n"
      ],
      "text/markdown": [
       "\n",
       "| Year | Month | Value |\n",
       "|---|---|---|\n",
       "| 1999 | Jan  | 4905 |\n",
       "| 2000 | Jan  | 4808 |\n",
       "| 2001 | Jan  | 4486 |\n",
       "| 2002 | Jan  | 5364 |\n",
       "| 2003 | Jan  | 5184 |\n",
       "| 2004 | Jan  | 6609 |\n",
       "\n"
      ],
      "text/plain": [
       "  Year Month Value\n",
       "1 1999 Jan   4905 \n",
       "2 2000 Jan   4808 \n",
       "3 2001 Jan   4486 \n",
       "4 2002 Jan   5364 \n",
       "5 2003 Jan   5184 \n",
       "6 2004 Jan   6609 "
      ]
     },
     "metadata": {},
     "output_type": "display_data"
    },
    {
     "name": "stdout",
     "output_type": "stream",
     "text": [
      "'data.frame':\t237 obs. of  3 variables:\n",
      " $ Year : Factor w/ 20 levels \"1999\",\"2000\",..: 1 2 3 4 5 6 7 8 9 10 ...\n",
      " $ Month: Factor w/ 12 levels \"Jan\",\"Feb\",\"Mar\",..: 1 1 1 1 1 1 1 1 1 1 ...\n",
      " $ Value: int  4905 4808 4486 5364 5184 6609 4450 4540 5710 6422 ...\n"
     ]
    },
    {
     "data": {
      "text/html": [
       "<table>\n",
       "<thead><tr><th scope=col>Year</th><th scope=col>Value</th></tr></thead>\n",
       "<tbody>\n",
       "\t<tr><td>1951</td><td>110 </td></tr>\n",
       "\t<tr><td>1954</td><td>110 </td></tr>\n",
       "\t<tr><td>1961</td><td>110 </td></tr>\n",
       "\t<tr><td>1962</td><td>110 </td></tr>\n",
       "\t<tr><td>1963</td><td>110 </td></tr>\n",
       "\t<tr><td>1964</td><td> 49 </td></tr>\n",
       "</tbody>\n",
       "</table>\n"
      ],
      "text/latex": [
       "\\begin{tabular}{r|ll}\n",
       " Year & Value\\\\\n",
       "\\hline\n",
       "\t 1951 & 110 \\\\\n",
       "\t 1954 & 110 \\\\\n",
       "\t 1961 & 110 \\\\\n",
       "\t 1962 & 110 \\\\\n",
       "\t 1963 & 110 \\\\\n",
       "\t 1964 &  49 \\\\\n",
       "\\end{tabular}\n"
      ],
      "text/markdown": [
       "\n",
       "| Year | Value |\n",
       "|---|---|\n",
       "| 1951 | 110  |\n",
       "| 1954 | 110  |\n",
       "| 1961 | 110  |\n",
       "| 1962 | 110  |\n",
       "| 1963 | 110  |\n",
       "| 1964 |  49  |\n",
       "\n"
      ],
      "text/plain": [
       "  Year Value\n",
       "1 1951 110  \n",
       "2 1954 110  \n",
       "3 1961 110  \n",
       "4 1962 110  \n",
       "5 1963 110  \n",
       "6 1964  49  "
      ]
     },
     "metadata": {},
     "output_type": "display_data"
    },
    {
     "name": "stdout",
     "output_type": "stream",
     "text": [
      "'data.frame':\t59 obs. of  2 variables:\n",
      " $ Year : Factor w/ 59 levels \"1951\",\"1954\",..: 1 2 3 4 5 6 7 8 9 10 ...\n",
      " $ Value: int  110 110 110 110 110 49 49 77 111 111 ...\n"
     ]
    }
   ],
   "source": [
    "# Monthly asylum applications in Spain\n",
    "asylum = read.csv('data/asylum.csv')\n",
    "\n",
    "# Annual refugees coming to Spain\n",
    "refugee = read.csv('data/annual_refugee.csv')\n",
    "\n",
    "# Convert Month factors to proper month abbreviation\n",
    "levels(asylum$Month) = month.abb\n",
    "\n",
    "# Convert Year to a factor\n",
    "asylum$Year <- factor(asylum$Year)\n",
    "refugee$Year <- factor(refugee$Year)\n",
    "\n",
    "# Sum by year and month\n",
    "df <- aggregate(. ~Year+Month, data=asylum, sum)[c('Year','Month','Value')]\n",
    "df2 <- aggregate(. ~Year, data=refugee, sum)[c('Year','Value')]\n",
    "\n",
    "head(df)\n",
    "str(df)\n",
    "\n",
    "head(df2)\n",
    "str(df2)"
   ]
  },
  {
   "cell_type": "markdown",
   "metadata": {},
   "source": [
    "# Exploratory Data Analysis"
   ]
  },
  {
   "cell_type": "code",
   "execution_count": 18,
   "metadata": {},
   "outputs": [
    {
     "data": {
      "image/png": "[encoded data removed]",
      "text/plain": [
       "plot without title"
      ]
     },
     "metadata": {},
     "output_type": "display_data"
    }
   ],
   "source": [
    "# Scatter plot\n",
    "par(mfrow = c(2,1))\n",
    "temp <- ts(df$Value)\n",
    "ts.plot(temp)\n",
    "\n",
    "temp2 <- ts(df2$Value)\n",
    "ts.plot(temp2)"
   ]
  },
  {
   "cell_type": "code",
   "execution_count": null,
   "metadata": {},
   "outputs": [],
   "source": []
  }
 ],
 "metadata": {
  "kernelspec": {
   "display_name": "R",
   "language": "R",
   "name": "ir"
  },
  "language_info": {
   "codemirror_mode": "r",
   "file_extension": ".r",
   "mimetype": "text/x-r-source",
   "name": "R",
   "pygments_lexer": "r",
   "version": "3.5.1"
  }
 },
 "nbformat": 4,
 "nbformat_minor": 2
}
